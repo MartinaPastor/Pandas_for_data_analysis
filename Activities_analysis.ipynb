{
 "cells": [
  {
   "cell_type": "markdown",
   "metadata": {},
   "source": [
    "# Data Analysis"
   ]
  },
  {
   "cell_type": "markdown",
   "metadata": {},
   "source": [
    "Below is a quick analysis making use of [`pandas`](http://pandas.pydata.org/) and [`seaborn`](http://seaborn.pydata.org/). Contrary to general methods, the data will be analysed across its attributes without formulating specific research questions first. The aim for this particular analysis is just to display an approach to cleaning, organising, and exploring data. As a rule of thumb, though, it is preferable to approach data analysis with a specific research question in mind (see the other files in this repository for a more classical analysis).\n",
    "\n",
    "The dataset contains data regarding activities recorded by a sport tracker app across several locations.\n"
   ]
  },
  {
   "cell_type": "code",
   "execution_count": 1,
   "metadata": {},
   "outputs": [],
   "source": [
    "import pandas as pd\n",
    "import seaborn as sns\n",
    "import matplotlib.pyplot as plt"
   ]
  },
  {
   "cell_type": "markdown",
   "metadata": {},
   "source": [
    "## A First Look at the Data"
   ]
  },
  {
   "cell_type": "code",
   "execution_count": 2,
   "metadata": {},
   "outputs": [
    {
     "name": "stdout",
     "output_type": "stream",
     "text": [
      "There are 1000 records\n",
      "There are 10 attributes\n"
     ]
    },
    {
     "data": {
      "text/plain": [
       "date         object\n",
       "activity     object\n",
       "duration    float64\n",
       "distance    float64\n",
       "type         object\n",
       "user          int64\n",
       "age           int64\n",
       "gender       object\n",
       "weight      float64\n",
       "location     object\n",
       "dtype: object"
      ]
     },
     "execution_count": 2,
     "metadata": {},
     "output_type": "execute_result"
    }
   ],
   "source": [
    "#load data\n",
    "df = pd.read_csv('activities.csv', na_values=['?'])\n",
    "print('There are ' + str(df.shape[0]) + ' records')\n",
    "print('There are ' + str(df.columns.size) + ' attributes')\n",
    "\n",
    "#what data types are featured in the dataset?\n",
    "df.dtypes"
   ]
  },
  {
   "cell_type": "code",
   "execution_count": 3,
   "metadata": {},
   "outputs": [
    {
     "data": {
      "text/html": [
       "<div>\n",
       "<style scoped>\n",
       "    .dataframe tbody tr th:only-of-type {\n",
       "        vertical-align: middle;\n",
       "    }\n",
       "\n",
       "    .dataframe tbody tr th {\n",
       "        vertical-align: top;\n",
       "    }\n",
       "\n",
       "    .dataframe thead th {\n",
       "        text-align: right;\n",
       "    }\n",
       "</style>\n",
       "<table border=\"1\" class=\"dataframe\">\n",
       "  <thead>\n",
       "    <tr style=\"text-align: right;\">\n",
       "      <th></th>\n",
       "      <th>date</th>\n",
       "      <th>activity</th>\n",
       "      <th>duration</th>\n",
       "      <th>distance</th>\n",
       "      <th>type</th>\n",
       "      <th>user</th>\n",
       "      <th>age</th>\n",
       "      <th>gender</th>\n",
       "      <th>weight</th>\n",
       "      <th>location</th>\n",
       "    </tr>\n",
       "  </thead>\n",
       "  <tbody>\n",
       "    <tr>\n",
       "      <th>0</th>\n",
       "      <td>01/01/2019</td>\n",
       "      <td>run</td>\n",
       "      <td>48.80</td>\n",
       "      <td>5.07</td>\n",
       "      <td>workout</td>\n",
       "      <td>61717</td>\n",
       "      <td>29</td>\n",
       "      <td>m</td>\n",
       "      <td>75.9</td>\n",
       "      <td>NaN</td>\n",
       "    </tr>\n",
       "    <tr>\n",
       "      <th>1</th>\n",
       "      <td>01/01/2019</td>\n",
       "      <td>ride</td>\n",
       "      <td>1.67</td>\n",
       "      <td>42.91</td>\n",
       "      <td>workout</td>\n",
       "      <td>1093</td>\n",
       "      <td>26</td>\n",
       "      <td>f</td>\n",
       "      <td>66.0</td>\n",
       "      <td>NaN</td>\n",
       "    </tr>\n",
       "    <tr>\n",
       "      <th>2</th>\n",
       "      <td>01/01/2019</td>\n",
       "      <td>ride</td>\n",
       "      <td>1.51</td>\n",
       "      <td>39.09</td>\n",
       "      <td>workout</td>\n",
       "      <td>8736</td>\n",
       "      <td>24</td>\n",
       "      <td>f</td>\n",
       "      <td>62.2</td>\n",
       "      <td>NaN</td>\n",
       "    </tr>\n",
       "    <tr>\n",
       "      <th>3</th>\n",
       "      <td>01/01/2019</td>\n",
       "      <td>run</td>\n",
       "      <td>57.86</td>\n",
       "      <td>8.11</td>\n",
       "      <td>workout</td>\n",
       "      <td>35688</td>\n",
       "      <td>18</td>\n",
       "      <td>f</td>\n",
       "      <td>59.3</td>\n",
       "      <td>Aurora, US</td>\n",
       "    </tr>\n",
       "    <tr>\n",
       "      <th>4</th>\n",
       "      <td>01/01/2019</td>\n",
       "      <td>ride</td>\n",
       "      <td>1.34</td>\n",
       "      <td>34.22</td>\n",
       "      <td>workout</td>\n",
       "      <td>24235</td>\n",
       "      <td>23</td>\n",
       "      <td>f</td>\n",
       "      <td>59.8</td>\n",
       "      <td>NaN</td>\n",
       "    </tr>\n",
       "    <tr>\n",
       "      <th>5</th>\n",
       "      <td>01/01/2019</td>\n",
       "      <td>run</td>\n",
       "      <td>43.83</td>\n",
       "      <td>11.92</td>\n",
       "      <td>workout</td>\n",
       "      <td>53882</td>\n",
       "      <td>19</td>\n",
       "      <td>m</td>\n",
       "      <td>57.4</td>\n",
       "      <td>Lille, BE</td>\n",
       "    </tr>\n",
       "    <tr>\n",
       "      <th>6</th>\n",
       "      <td>01/01/2019</td>\n",
       "      <td>ride</td>\n",
       "      <td>1.87</td>\n",
       "      <td>51.09</td>\n",
       "      <td>workout</td>\n",
       "      <td>62450</td>\n",
       "      <td>23</td>\n",
       "      <td>m</td>\n",
       "      <td>70.7</td>\n",
       "      <td>Vught, NL</td>\n",
       "    </tr>\n",
       "    <tr>\n",
       "      <th>7</th>\n",
       "      <td>01/01/2019</td>\n",
       "      <td>run</td>\n",
       "      <td>38.29</td>\n",
       "      <td>8.57</td>\n",
       "      <td>workout</td>\n",
       "      <td>7992</td>\n",
       "      <td>24</td>\n",
       "      <td>f</td>\n",
       "      <td>60.9</td>\n",
       "      <td>Lodwar, KE</td>\n",
       "    </tr>\n",
       "    <tr>\n",
       "      <th>8</th>\n",
       "      <td>01/01/2019</td>\n",
       "      <td>run</td>\n",
       "      <td>44.38</td>\n",
       "      <td>17.42</td>\n",
       "      <td>workout</td>\n",
       "      <td>79247</td>\n",
       "      <td>24</td>\n",
       "      <td>m</td>\n",
       "      <td>59.4</td>\n",
       "      <td>Lodwar, KE</td>\n",
       "    </tr>\n",
       "    <tr>\n",
       "      <th>9</th>\n",
       "      <td>01/01/2019</td>\n",
       "      <td>run</td>\n",
       "      <td>41.78</td>\n",
       "      <td>7.09</td>\n",
       "      <td>workout</td>\n",
       "      <td>4166</td>\n",
       "      <td>25</td>\n",
       "      <td>f</td>\n",
       "      <td>57.2</td>\n",
       "      <td>Tupelo, US</td>\n",
       "    </tr>\n",
       "  </tbody>\n",
       "</table>\n",
       "</div>"
      ],
      "text/plain": [
       "         date activity  duration  distance     type   user  age gender  \\\n",
       "0  01/01/2019      run     48.80      5.07  workout  61717   29      m   \n",
       "1  01/01/2019     ride      1.67     42.91  workout   1093   26      f   \n",
       "2  01/01/2019     ride      1.51     39.09  workout   8736   24      f   \n",
       "3  01/01/2019      run     57.86      8.11  workout  35688   18      f   \n",
       "4  01/01/2019     ride      1.34     34.22  workout  24235   23      f   \n",
       "5  01/01/2019      run     43.83     11.92  workout  53882   19      m   \n",
       "6  01/01/2019     ride      1.87     51.09  workout  62450   23      m   \n",
       "7  01/01/2019      run     38.29      8.57  workout   7992   24      f   \n",
       "8  01/01/2019      run     44.38     17.42  workout  79247   24      m   \n",
       "9  01/01/2019      run     41.78      7.09  workout   4166   25      f   \n",
       "\n",
       "   weight    location  \n",
       "0    75.9         NaN  \n",
       "1    66.0         NaN  \n",
       "2    62.2         NaN  \n",
       "3    59.3  Aurora, US  \n",
       "4    59.8         NaN  \n",
       "5    57.4   Lille, BE  \n",
       "6    70.7   Vught, NL  \n",
       "7    60.9  Lodwar, KE  \n",
       "8    59.4  Lodwar, KE  \n",
       "9    57.2  Tupelo, US  "
      ]
     },
     "execution_count": 3,
     "metadata": {},
     "output_type": "execute_result"
    }
   ],
   "source": [
    "#take a look at the first couple of records\n",
    "df.head(10)"
   ]
  },
  {
   "cell_type": "markdown",
   "metadata": {},
   "source": [
    "## Data Cleaning\n",
    "\n",
    "Two issues can already be spotted: the dataset contains missing values for the attribute `location` and the `duration` value representation is inconsistent across activities. On a further analysis, it can be also noticed that the date values relative to the location `US` follow the format `%m/%d/%Y`, as opposed to the other records, featuring the format `%d/%m/%Y`, which results in day and month values getting mixed up.\n",
    "\n",
    "It is importanto to always check for missing values, and to further explore the data to notice issues and irregularities which must be dealt with.\n",
    "\n",
    "* **MISSING VALUES**\n",
    "\n",
    "The first aim is to find all missing values in the data and deal with them, taking into account that at times null values may be the symptoms of issues to be further explored.  \n",
    "In this case, `location` is the only field having missing values.\n",
    "\n",
    "Missing values are dealt with first. For this sample data, there is no specific pattern for the missing values, and they can be safely kept."
   ]
  },
  {
   "cell_type": "code",
   "execution_count": 4,
   "metadata": {},
   "outputs": [],
   "source": [
    "df[df['location'].isnull()].describe(include=['object'])\n",
    "df['location'].fillna(value='0', inplace=True)"
   ]
  },
  {
   "cell_type": "markdown",
   "metadata": {},
   "source": [
    "* **DATE MISMATCH**\n",
    "\n",
    "US-based activities also feature the state name, which is not needed for the analysis, so it will be normalised as 'US'."
   ]
  },
  {
   "cell_type": "code",
   "execution_count": 5,
   "metadata": {},
   "outputs": [
    {
     "data": {
      "text/html": [
       "<div>\n",
       "<style scoped>\n",
       "    .dataframe tbody tr th:only-of-type {\n",
       "        vertical-align: middle;\n",
       "    }\n",
       "\n",
       "    .dataframe tbody tr th {\n",
       "        vertical-align: top;\n",
       "    }\n",
       "\n",
       "    .dataframe thead th {\n",
       "        text-align: right;\n",
       "    }\n",
       "</style>\n",
       "<table border=\"1\" class=\"dataframe\">\n",
       "  <thead>\n",
       "    <tr style=\"text-align: right;\">\n",
       "      <th></th>\n",
       "      <th>date</th>\n",
       "      <th>location</th>\n",
       "    </tr>\n",
       "  </thead>\n",
       "  <tbody>\n",
       "    <tr>\n",
       "      <th>296</th>\n",
       "      <td>01/13/2019</td>\n",
       "      <td>Greenfield, US</td>\n",
       "    </tr>\n",
       "    <tr>\n",
       "      <th>298</th>\n",
       "      <td>01/13/2019</td>\n",
       "      <td>Fresno, US</td>\n",
       "    </tr>\n",
       "    <tr>\n",
       "      <th>311</th>\n",
       "      <td>01/14/2019</td>\n",
       "      <td>East Haven, US</td>\n",
       "    </tr>\n",
       "    <tr>\n",
       "      <th>315</th>\n",
       "      <td>01/14/2019</td>\n",
       "      <td>Sunnyside, US</td>\n",
       "    </tr>\n",
       "    <tr>\n",
       "      <th>320</th>\n",
       "      <td>01/14/2019</td>\n",
       "      <td>Troutdale, US</td>\n",
       "    </tr>\n",
       "  </tbody>\n",
       "</table>\n",
       "</div>"
      ],
      "text/plain": [
       "           date        location\n",
       "296  01/13/2019  Greenfield, US\n",
       "298  01/13/2019      Fresno, US\n",
       "311  01/14/2019  East Haven, US\n",
       "315  01/14/2019   Sunnyside, US\n",
       "320  01/14/2019   Troutdale, US"
      ]
     },
     "execution_count": 5,
     "metadata": {},
     "output_type": "execute_result"
    }
   ],
   "source": [
    "#snippet of the problem for the US location\n",
    "df[df['location'].str.contains('US')][['date','location']][55:60]"
   ]
  },
  {
   "cell_type": "code",
   "execution_count": 6,
   "metadata": {},
   "outputs": [
    {
     "data": {
      "text/html": [
       "<div>\n",
       "<style scoped>\n",
       "    .dataframe tbody tr th:only-of-type {\n",
       "        vertical-align: middle;\n",
       "    }\n",
       "\n",
       "    .dataframe tbody tr th {\n",
       "        vertical-align: top;\n",
       "    }\n",
       "\n",
       "    .dataframe thead th {\n",
       "        text-align: right;\n",
       "    }\n",
       "</style>\n",
       "<table border=\"1\" class=\"dataframe\">\n",
       "  <thead>\n",
       "    <tr style=\"text-align: right;\">\n",
       "      <th></th>\n",
       "      <th>date</th>\n",
       "      <th>location</th>\n",
       "    </tr>\n",
       "  </thead>\n",
       "  <tbody>\n",
       "    <tr>\n",
       "      <th>296</th>\n",
       "      <td>13/01/2019</td>\n",
       "      <td>US</td>\n",
       "    </tr>\n",
       "    <tr>\n",
       "      <th>298</th>\n",
       "      <td>13/01/2019</td>\n",
       "      <td>US</td>\n",
       "    </tr>\n",
       "    <tr>\n",
       "      <th>311</th>\n",
       "      <td>14/01/2019</td>\n",
       "      <td>US</td>\n",
       "    </tr>\n",
       "    <tr>\n",
       "      <th>315</th>\n",
       "      <td>14/01/2019</td>\n",
       "      <td>US</td>\n",
       "    </tr>\n",
       "    <tr>\n",
       "      <th>320</th>\n",
       "      <td>14/01/2019</td>\n",
       "      <td>US</td>\n",
       "    </tr>\n",
       "  </tbody>\n",
       "</table>\n",
       "</div>"
      ],
      "text/plain": [
       "           date location\n",
       "296  13/01/2019       US\n",
       "298  13/01/2019       US\n",
       "311  14/01/2019       US\n",
       "315  14/01/2019       US\n",
       "320  14/01/2019       US"
      ]
     },
     "execution_count": 6,
     "metadata": {},
     "output_type": "execute_result"
    }
   ],
   "source": [
    "# Normalise the US locations as 'US'\n",
    "df.loc[df['location'].str.contains('US'), 'location'] = 'US'\n",
    "\n",
    "#switch the format to '%d/%m/%Y'\n",
    "df.loc[df['location']=='US','date'] = pd.to_datetime(df.loc[df['location']=='US','date'],format='%m/%d/%Y').dt.strftime('%d/%m/%Y')\n",
    "\n",
    "#snippet of the solved issue\n",
    "df[df['location'].str.contains('US')][['date','location']][55:60]"
   ]
  },
  {
   "cell_type": "markdown",
   "metadata": {},
   "source": [
    "* **DURATION INCONSISTENCY**\n",
    "\n",
    "As all the duration data for the `run` activity is expressed in decimal minutes, they are normalised to decimal hours."
   ]
  },
  {
   "cell_type": "code",
   "execution_count": 7,
   "metadata": {},
   "outputs": [
    {
     "data": {
      "text/html": [
       "<div>\n",
       "<style scoped>\n",
       "    .dataframe tbody tr th:only-of-type {\n",
       "        vertical-align: middle;\n",
       "    }\n",
       "\n",
       "    .dataframe tbody tr th {\n",
       "        vertical-align: top;\n",
       "    }\n",
       "\n",
       "    .dataframe thead th {\n",
       "        text-align: right;\n",
       "    }\n",
       "</style>\n",
       "<table border=\"1\" class=\"dataframe\">\n",
       "  <thead>\n",
       "    <tr style=\"text-align: right;\">\n",
       "      <th></th>\n",
       "      <th>date</th>\n",
       "      <th>activity</th>\n",
       "      <th>duration</th>\n",
       "      <th>distance</th>\n",
       "      <th>type</th>\n",
       "      <th>user</th>\n",
       "      <th>age</th>\n",
       "      <th>gender</th>\n",
       "      <th>weight</th>\n",
       "      <th>location</th>\n",
       "    </tr>\n",
       "  </thead>\n",
       "  <tbody>\n",
       "    <tr>\n",
       "      <th>0</th>\n",
       "      <td>01/01/2019</td>\n",
       "      <td>run</td>\n",
       "      <td>0.80</td>\n",
       "      <td>5.07</td>\n",
       "      <td>workout</td>\n",
       "      <td>61717</td>\n",
       "      <td>29</td>\n",
       "      <td>m</td>\n",
       "      <td>75.9</td>\n",
       "      <td>0</td>\n",
       "    </tr>\n",
       "    <tr>\n",
       "      <th>1</th>\n",
       "      <td>01/01/2019</td>\n",
       "      <td>ride</td>\n",
       "      <td>1.67</td>\n",
       "      <td>42.91</td>\n",
       "      <td>workout</td>\n",
       "      <td>1093</td>\n",
       "      <td>26</td>\n",
       "      <td>f</td>\n",
       "      <td>66.0</td>\n",
       "      <td>0</td>\n",
       "    </tr>\n",
       "    <tr>\n",
       "      <th>2</th>\n",
       "      <td>01/01/2019</td>\n",
       "      <td>ride</td>\n",
       "      <td>1.51</td>\n",
       "      <td>39.09</td>\n",
       "      <td>workout</td>\n",
       "      <td>8736</td>\n",
       "      <td>24</td>\n",
       "      <td>f</td>\n",
       "      <td>62.2</td>\n",
       "      <td>0</td>\n",
       "    </tr>\n",
       "    <tr>\n",
       "      <th>3</th>\n",
       "      <td>01/01/2019</td>\n",
       "      <td>run</td>\n",
       "      <td>0.95</td>\n",
       "      <td>8.11</td>\n",
       "      <td>workout</td>\n",
       "      <td>35688</td>\n",
       "      <td>18</td>\n",
       "      <td>f</td>\n",
       "      <td>59.3</td>\n",
       "      <td>US</td>\n",
       "    </tr>\n",
       "    <tr>\n",
       "      <th>4</th>\n",
       "      <td>01/01/2019</td>\n",
       "      <td>ride</td>\n",
       "      <td>1.34</td>\n",
       "      <td>34.22</td>\n",
       "      <td>workout</td>\n",
       "      <td>24235</td>\n",
       "      <td>23</td>\n",
       "      <td>f</td>\n",
       "      <td>59.8</td>\n",
       "      <td>0</td>\n",
       "    </tr>\n",
       "  </tbody>\n",
       "</table>\n",
       "</div>"
      ],
      "text/plain": [
       "         date activity  duration  distance     type   user  age gender  \\\n",
       "0  01/01/2019      run      0.80      5.07  workout  61717   29      m   \n",
       "1  01/01/2019     ride      1.67     42.91  workout   1093   26      f   \n",
       "2  01/01/2019     ride      1.51     39.09  workout   8736   24      f   \n",
       "3  01/01/2019      run      0.95      8.11  workout  35688   18      f   \n",
       "4  01/01/2019     ride      1.34     34.22  workout  24235   23      f   \n",
       "\n",
       "   weight location  \n",
       "0    75.9        0  \n",
       "1    66.0        0  \n",
       "2    62.2        0  \n",
       "3    59.3       US  \n",
       "4    59.8        0  "
      ]
     },
     "execution_count": 7,
     "metadata": {},
     "output_type": "execute_result"
    }
   ],
   "source": [
    "df['duration'] = df.apply(lambda row : round(float(int(row.duration)/60),2)\n",
    "                         if row.activity == \"run\"\n",
    "                          else row.duration,\n",
    "                         axis=1)\n",
    "df.head()"
   ]
  },
  {
   "cell_type": "markdown",
   "metadata": {},
   "source": [
    "* **LOCATIONS NORMALISATION**\n",
    "\n",
    "Finally, all locations are normalised by keeping only the country code, as the particular regions/states are not needed. \n",
    "\n",
    "Unique resulting locations are thus: `0`(Na value), `US`, `BE`, `NL`, `KE`."
   ]
  },
  {
   "cell_type": "code",
   "execution_count": 8,
   "metadata": {},
   "outputs": [
    {
     "name": "stdout",
     "output_type": "stream",
     "text": [
      "['0' 'US' 'Lille, BE' 'Vught, NL' 'Lodwar, KE' 'Busia, KE' 'Nyahururu, KE'\n",
      " 'Gembloux, BE' 'Schiebroek, NL' 'Houthalen, BE' 'Tongelre, NL'\n",
      " 'Emmeloord, NL' 'Hardenberg, NL' 'Rixensart, BE' 'Wevelgem, BE'\n",
      " 'Losser, NL' 'Denderleeuw, BE' 'Hoogezand, NL' 'Oldenzaal, NL'\n",
      " 'Zeist, NL' 'Mouscron, BE' 'Culemborg, NL']\n"
     ]
    }
   ],
   "source": [
    "print(df.location.unique())"
   ]
  },
  {
   "cell_type": "code",
   "execution_count": 9,
   "metadata": {},
   "outputs": [
    {
     "name": "stdout",
     "output_type": "stream",
     "text": [
      "['0' 'US' 'BE' 'NL' 'KE']\n"
     ]
    }
   ],
   "source": [
    "df.loc[df['location'].str.contains('BE'), 'location'] = 'BE'\n",
    "df.loc[df['location'].str.contains('NL'), 'location'] = 'NL'\n",
    "df.loc[df['location'].str.contains('KE'), 'location'] = 'KE'\n",
    "\n",
    "print(df.location.unique())"
   ]
  },
  {
   "cell_type": "markdown",
   "metadata": {},
   "source": [
    "## Data Enriching\n",
    "\n",
    "Other four attributes are added to allow for a more in-depth analysis: `weekday`, `month`, and `day`, by making use of `datetime`, and `speed`."
   ]
  },
  {
   "cell_type": "code",
   "execution_count": 10,
   "metadata": {},
   "outputs": [
    {
     "data": {
      "text/html": [
       "<div>\n",
       "<style scoped>\n",
       "    .dataframe tbody tr th:only-of-type {\n",
       "        vertical-align: middle;\n",
       "    }\n",
       "\n",
       "    .dataframe tbody tr th {\n",
       "        vertical-align: top;\n",
       "    }\n",
       "\n",
       "    .dataframe thead th {\n",
       "        text-align: right;\n",
       "    }\n",
       "</style>\n",
       "<table border=\"1\" class=\"dataframe\">\n",
       "  <thead>\n",
       "    <tr style=\"text-align: right;\">\n",
       "      <th></th>\n",
       "      <th>date</th>\n",
       "      <th>activity</th>\n",
       "      <th>duration</th>\n",
       "      <th>distance</th>\n",
       "      <th>type</th>\n",
       "      <th>user</th>\n",
       "      <th>age</th>\n",
       "      <th>gender</th>\n",
       "      <th>weight</th>\n",
       "      <th>location</th>\n",
       "      <th>weekday</th>\n",
       "      <th>month</th>\n",
       "      <th>day</th>\n",
       "    </tr>\n",
       "  </thead>\n",
       "  <tbody>\n",
       "    <tr>\n",
       "      <th>0</th>\n",
       "      <td>2019-01-01</td>\n",
       "      <td>run</td>\n",
       "      <td>0.80</td>\n",
       "      <td>5.07</td>\n",
       "      <td>workout</td>\n",
       "      <td>61717</td>\n",
       "      <td>29</td>\n",
       "      <td>m</td>\n",
       "      <td>75.9</td>\n",
       "      <td>0</td>\n",
       "      <td>1</td>\n",
       "      <td>1</td>\n",
       "      <td>1</td>\n",
       "    </tr>\n",
       "    <tr>\n",
       "      <th>1</th>\n",
       "      <td>2019-01-01</td>\n",
       "      <td>ride</td>\n",
       "      <td>1.67</td>\n",
       "      <td>42.91</td>\n",
       "      <td>workout</td>\n",
       "      <td>1093</td>\n",
       "      <td>26</td>\n",
       "      <td>f</td>\n",
       "      <td>66.0</td>\n",
       "      <td>0</td>\n",
       "      <td>1</td>\n",
       "      <td>1</td>\n",
       "      <td>1</td>\n",
       "    </tr>\n",
       "    <tr>\n",
       "      <th>2</th>\n",
       "      <td>2019-01-01</td>\n",
       "      <td>ride</td>\n",
       "      <td>1.51</td>\n",
       "      <td>39.09</td>\n",
       "      <td>workout</td>\n",
       "      <td>8736</td>\n",
       "      <td>24</td>\n",
       "      <td>f</td>\n",
       "      <td>62.2</td>\n",
       "      <td>0</td>\n",
       "      <td>1</td>\n",
       "      <td>1</td>\n",
       "      <td>1</td>\n",
       "    </tr>\n",
       "    <tr>\n",
       "      <th>3</th>\n",
       "      <td>2019-01-01</td>\n",
       "      <td>run</td>\n",
       "      <td>0.95</td>\n",
       "      <td>8.11</td>\n",
       "      <td>workout</td>\n",
       "      <td>35688</td>\n",
       "      <td>18</td>\n",
       "      <td>f</td>\n",
       "      <td>59.3</td>\n",
       "      <td>US</td>\n",
       "      <td>1</td>\n",
       "      <td>1</td>\n",
       "      <td>1</td>\n",
       "    </tr>\n",
       "    <tr>\n",
       "      <th>4</th>\n",
       "      <td>2019-01-01</td>\n",
       "      <td>ride</td>\n",
       "      <td>1.34</td>\n",
       "      <td>34.22</td>\n",
       "      <td>workout</td>\n",
       "      <td>24235</td>\n",
       "      <td>23</td>\n",
       "      <td>f</td>\n",
       "      <td>59.8</td>\n",
       "      <td>0</td>\n",
       "      <td>1</td>\n",
       "      <td>1</td>\n",
       "      <td>1</td>\n",
       "    </tr>\n",
       "  </tbody>\n",
       "</table>\n",
       "</div>"
      ],
      "text/plain": [
       "        date activity  duration  distance     type   user  age gender  weight  \\\n",
       "0 2019-01-01      run      0.80      5.07  workout  61717   29      m    75.9   \n",
       "1 2019-01-01     ride      1.67     42.91  workout   1093   26      f    66.0   \n",
       "2 2019-01-01     ride      1.51     39.09  workout   8736   24      f    62.2   \n",
       "3 2019-01-01      run      0.95      8.11  workout  35688   18      f    59.3   \n",
       "4 2019-01-01     ride      1.34     34.22  workout  24235   23      f    59.8   \n",
       "\n",
       "  location  weekday  month  day  \n",
       "0        0        1      1    1  \n",
       "1        0        1      1    1  \n",
       "2        0        1      1    1  \n",
       "3       US        1      1    1  \n",
       "4        0        1      1    1  "
      ]
     },
     "execution_count": 10,
     "metadata": {},
     "output_type": "execute_result"
    }
   ],
   "source": [
    "#switch to the format needed\n",
    "df['date'] = pd.to_datetime(df['date'], format='%d/%m/%Y')\n",
    "\n",
    "df['weekday'] = df['date'].dt.weekday\n",
    "df['month'] = df['date'].dt.month\n",
    "df['day'] = df['date'].dt.day\n",
    "\n",
    "df.head()"
   ]
  },
  {
   "cell_type": "code",
   "execution_count": 11,
   "metadata": {},
   "outputs": [
    {
     "data": {
      "text/html": [
       "<div>\n",
       "<style scoped>\n",
       "    .dataframe tbody tr th:only-of-type {\n",
       "        vertical-align: middle;\n",
       "    }\n",
       "\n",
       "    .dataframe tbody tr th {\n",
       "        vertical-align: top;\n",
       "    }\n",
       "\n",
       "    .dataframe thead th {\n",
       "        text-align: right;\n",
       "    }\n",
       "</style>\n",
       "<table border=\"1\" class=\"dataframe\">\n",
       "  <thead>\n",
       "    <tr style=\"text-align: right;\">\n",
       "      <th></th>\n",
       "      <th>date</th>\n",
       "      <th>activity</th>\n",
       "      <th>duration</th>\n",
       "      <th>distance</th>\n",
       "      <th>type</th>\n",
       "      <th>user</th>\n",
       "      <th>age</th>\n",
       "      <th>gender</th>\n",
       "      <th>weight</th>\n",
       "      <th>location</th>\n",
       "      <th>weekday</th>\n",
       "      <th>month</th>\n",
       "      <th>day</th>\n",
       "      <th>speed</th>\n",
       "    </tr>\n",
       "  </thead>\n",
       "  <tbody>\n",
       "    <tr>\n",
       "      <th>0</th>\n",
       "      <td>2019-01-01</td>\n",
       "      <td>run</td>\n",
       "      <td>0.80</td>\n",
       "      <td>5.07</td>\n",
       "      <td>workout</td>\n",
       "      <td>61717</td>\n",
       "      <td>29</td>\n",
       "      <td>m</td>\n",
       "      <td>75.9</td>\n",
       "      <td>0</td>\n",
       "      <td>1</td>\n",
       "      <td>1</td>\n",
       "      <td>1</td>\n",
       "      <td>6.34</td>\n",
       "    </tr>\n",
       "    <tr>\n",
       "      <th>1</th>\n",
       "      <td>2019-01-01</td>\n",
       "      <td>ride</td>\n",
       "      <td>1.67</td>\n",
       "      <td>42.91</td>\n",
       "      <td>workout</td>\n",
       "      <td>1093</td>\n",
       "      <td>26</td>\n",
       "      <td>f</td>\n",
       "      <td>66.0</td>\n",
       "      <td>0</td>\n",
       "      <td>1</td>\n",
       "      <td>1</td>\n",
       "      <td>1</td>\n",
       "      <td>25.69</td>\n",
       "    </tr>\n",
       "    <tr>\n",
       "      <th>2</th>\n",
       "      <td>2019-01-01</td>\n",
       "      <td>ride</td>\n",
       "      <td>1.51</td>\n",
       "      <td>39.09</td>\n",
       "      <td>workout</td>\n",
       "      <td>8736</td>\n",
       "      <td>24</td>\n",
       "      <td>f</td>\n",
       "      <td>62.2</td>\n",
       "      <td>0</td>\n",
       "      <td>1</td>\n",
       "      <td>1</td>\n",
       "      <td>1</td>\n",
       "      <td>25.89</td>\n",
       "    </tr>\n",
       "    <tr>\n",
       "      <th>3</th>\n",
       "      <td>2019-01-01</td>\n",
       "      <td>run</td>\n",
       "      <td>0.95</td>\n",
       "      <td>8.11</td>\n",
       "      <td>workout</td>\n",
       "      <td>35688</td>\n",
       "      <td>18</td>\n",
       "      <td>f</td>\n",
       "      <td>59.3</td>\n",
       "      <td>US</td>\n",
       "      <td>1</td>\n",
       "      <td>1</td>\n",
       "      <td>1</td>\n",
       "      <td>8.54</td>\n",
       "    </tr>\n",
       "    <tr>\n",
       "      <th>4</th>\n",
       "      <td>2019-01-01</td>\n",
       "      <td>ride</td>\n",
       "      <td>1.34</td>\n",
       "      <td>34.22</td>\n",
       "      <td>workout</td>\n",
       "      <td>24235</td>\n",
       "      <td>23</td>\n",
       "      <td>f</td>\n",
       "      <td>59.8</td>\n",
       "      <td>0</td>\n",
       "      <td>1</td>\n",
       "      <td>1</td>\n",
       "      <td>1</td>\n",
       "      <td>25.54</td>\n",
       "    </tr>\n",
       "  </tbody>\n",
       "</table>\n",
       "</div>"
      ],
      "text/plain": [
       "        date activity  duration  distance     type   user  age gender  weight  \\\n",
       "0 2019-01-01      run      0.80      5.07  workout  61717   29      m    75.9   \n",
       "1 2019-01-01     ride      1.67     42.91  workout   1093   26      f    66.0   \n",
       "2 2019-01-01     ride      1.51     39.09  workout   8736   24      f    62.2   \n",
       "3 2019-01-01      run      0.95      8.11  workout  35688   18      f    59.3   \n",
       "4 2019-01-01     ride      1.34     34.22  workout  24235   23      f    59.8   \n",
       "\n",
       "  location  weekday  month  day  speed  \n",
       "0        0        1      1    1   6.34  \n",
       "1        0        1      1    1  25.69  \n",
       "2        0        1      1    1  25.89  \n",
       "3       US        1      1    1   8.54  \n",
       "4        0        1      1    1  25.54  "
      ]
     },
     "execution_count": 11,
     "metadata": {},
     "output_type": "execute_result"
    }
   ],
   "source": [
    "df['speed'] = round(df.distance/df.duration, 2)\n",
    "df.head()"
   ]
  },
  {
   "cell_type": "markdown",
   "metadata": {},
   "source": [
    "## Data Exploration\n",
    "\n",
    "* **OVERVIEW** \n",
    "\n",
    "First, an overall analysis of the data will be performed to spot issues undetected in the previous stage and gain a better understanding of the data. Focus of exploration: number of unique users, age range, activities."
   ]
  },
  {
   "cell_type": "code",
   "execution_count": 12,
   "metadata": {},
   "outputs": [
    {
     "name": "stdout",
     "output_type": "stream",
     "text": [
      "The number of unique users is 100, ranging from 49 to 16 years old from 5 locations.\n",
      "Of these locations (['0' 'US' 'BE' 'NL' 'KE']), four are specified.\n",
      "The two activities ['run' 'ride'] appear in roughly the same amount, respectively 536 and 464.\n",
      "The gender count, on the other hand, is heavily biased toward female users (63 vs 37), with respectively 635 and 365 records.\n",
      "The records span a timeframe of 2 months, from 01/01/2019 to 28/02/2019.\n"
     ]
    }
   ],
   "source": [
    "print(\"\"\"The number of unique users is {unique_users}, ranging from {max} to {min} years old from {nloc} locations.\n",
    "Of these locations ({locs}), four are specified.\n",
    "The two activities {activities} appear in roughly the same amount, respectively {nrun} and {nride}.\n",
    "The gender count, on the other hand, is heavily biased toward female users ({nfemale} vs {nmale}), with respectively {f_rec} and {m_rec} records.\n",
    "The records span a timeframe of {nmonths} months, from {first_day} to {last_day}.\"\"\".format(\n",
    "    unique_users=df.user.nunique(), max=df.age.max(), min=df.age.min(), nloc=df.location.nunique(), \n",
    "    locs=df.location.unique(), activities=df.activity.unique(), nrun=len(df[df.activity=='run']), \n",
    "    nride=len(df[df.activity=='ride']), nfemale=pd.value_counts(df.groupby('user').first().gender)[0], \n",
    "    nmale=pd.value_counts(df.groupby('user').first().gender)[1], f_rec=len(df[df.gender=='f']), \n",
    "    m_rec=len(df[df.gender=='m']), nmonths=len(df.month.unique()), first_day=df['date'][0].strftime('%d/%m/%Y'),\n",
    "    last_day=df['date'][999].strftime('%d/%m/%Y')))\n"
   ]
  },
  {
   "cell_type": "markdown",
   "metadata": {},
   "source": [
    "* **IN-DEPTH EXPLORATION**\n",
    "\n",
    "Following, more exploration plus some data visualisation methods to gain better insights into the data. \n",
    "\n",
    "How does gender relate to activities and location? Is there a preferred activity depending on location?"
   ]
  },
  {
   "cell_type": "code",
   "execution_count": 13,
   "metadata": {},
   "outputs": [
    {
     "data": {
      "text/plain": [
       "Text(0.5, 1.05, 'Count per location by gender')"
      ]
     },
     "execution_count": 13,
     "metadata": {},
     "output_type": "execute_result"
    },
    {
     "data": {
      "image/png": "[encoded data removed]",
      "text/plain": [
       "<Figure size 720x360 with 2 Axes>"
      ]
     },
     "metadata": {
      "needs_background": "light"
     },
     "output_type": "display_data"
    }
   ],
   "source": [
    "loc_per_gender = sns.catplot(data=df, x='location', col = 'gender', kind='count', ci=False);\n",
    "loc_per_gender.fig.suptitle('Count per location by gender', y=1.05) "
   ]
  },
  {
   "cell_type": "code",
   "execution_count": 14,
   "metadata": {},
   "outputs": [
    {
     "data": {
      "text/plain": [
       "Text(0.5, 1.05, 'Count per location by activity')"
      ]
     },
     "execution_count": 14,
     "metadata": {},
     "output_type": "execute_result"
    },
    {
     "data": {
      "image/png": "[encoded data removed]",
      "text/plain": [
       "<Figure size 765.625x360 with 2 Axes>"
      ]
     },
     "metadata": {
      "needs_background": "light"
     },
     "output_type": "display_data"
    }
   ],
   "source": [
    "loc_per_activity = sns.catplot(data=df, x='location', col = 'activity' ,hue = 'gender', kind='count', ci=False);\n",
    "loc_per_activity.fig.suptitle('Count per location by activity', y=1.05) "
   ]
  },
  {
   "cell_type": "code",
   "execution_count": 15,
   "metadata": {},
   "outputs": [
    {
     "name": "stdout",
     "output_type": "stream",
     "text": [
      "The number of unique users for the unspecified location is 29 .\n",
      "The number of records forthe unspecified location is 308 .\n"
     ]
    }
   ],
   "source": [
    "#checking how many users and records are available for the non specified location\n",
    "df0 = df[df.location == '0'][['user']]\n",
    "print(\"The number of unique users for the unspecified location is \" + str(df0['user'].nunique()) + \" .\")\n",
    "print(\"The number of records forthe unspecified location is \" + str(df0['user'].count()) + \" .\")"
   ]
  },
  {
   "cell_type": "markdown",
   "metadata": {},
   "source": [
    "What is the age distribution? Does it vary with gender?"
   ]
  },
  {
   "cell_type": "code",
   "execution_count": 16,
   "metadata": {},
   "outputs": [
    {
     "data": {
      "text/plain": [
       "<matplotlib.axes._subplots.AxesSubplot at 0x1f2b06574e0>"
      ]
     },
     "execution_count": 16,
     "metadata": {},
     "output_type": "execute_result"
    },
    {
     "data": {
      "image/png": "[encoded data removed]",
      "text/plain": [
       "<Figure size 432x288 with 1 Axes>"
      ]
     },
     "metadata": {
      "needs_background": "light"
     },
     "output_type": "display_data"
    }
   ],
   "source": [
    "# a clearer plot showing the count by age of users\n",
    "ages = df.groupby('user').first().age.value_counts().sort_index()\n",
    "ages.plot.bar(x = 'age', y = 'count', title='Distribution of age per unique users')"
   ]
  },
  {
   "cell_type": "code",
   "execution_count": 17,
   "metadata": {},
   "outputs": [
    {
     "data": {
      "text/plain": [
       "<matplotlib.axes._subplots.AxesSubplot at 0x1f2b07bc080>"
      ]
     },
     "execution_count": 17,
     "metadata": {},
     "output_type": "execute_result"
    },
    {
     "data": {
      "image/png": "[encoded data removed]",
      "text/plain": [
       "<Figure size 432x288 with 1 Axes>"
      ]
     },
     "metadata": {
      "needs_background": "light"
     },
     "output_type": "display_data"
    }
   ],
   "source": [
    "#checking if the distribution is the same across genders\n",
    "dfmale = df[df.gender=='m'][['user','age', 'location','speed','activity']]\n",
    "agesmale = dfmale.groupby('user').first().age.value_counts().sort_index()\n",
    "agesmale.plot.bar(x = 'age', y = 'count', title='Male distribution by age')"
   ]
  },
  {
   "cell_type": "code",
   "execution_count": 18,
   "metadata": {},
   "outputs": [
    {
     "data": {
      "text/plain": [
       "<matplotlib.axes._subplots.AxesSubplot at 0x1f2b0983358>"
      ]
     },
     "execution_count": 18,
     "metadata": {},
     "output_type": "execute_result"
    },
    {
     "data": {
      "image/png": "[encoded data removed]",
      "text/plain": [
       "<Figure size 432x288 with 1 Axes>"
      ]
     },
     "metadata": {
      "needs_background": "light"
     },
     "output_type": "display_data"
    }
   ],
   "source": [
    "# male population seems to be underrepresented, so cross-check with female\n",
    "dffemale = df[df.gender=='f'][['user','age', 'location','speed','activity']]\n",
    "agesfemale = dffemale.groupby('user').first().age.value_counts().sort_index()\n",
    "agesfemale.plot.bar(x = 'age', y = 'count', title='Female distribution by age')"
   ]
  },
  {
   "cell_type": "code",
   "execution_count": 19,
   "metadata": {},
   "outputs": [
    {
     "data": {
      "text/plain": [
       "location\n",
       "0     28.905941\n",
       "BE    28.642202\n",
       "KE    28.857143\n",
       "NL    23.772727\n",
       "US    24.221154\n",
       "Name: age, dtype: float64"
      ]
     },
     "execution_count": 19,
     "metadata": {},
     "output_type": "execute_result"
    }
   ],
   "source": [
    "dffemale.groupby(['location'])['age'].mean()"
   ]
  },
  {
   "cell_type": "code",
   "execution_count": 20,
   "metadata": {},
   "outputs": [
    {
     "data": {
      "text/plain": [
       "location\n",
       "0     23.452830\n",
       "BE    22.760000\n",
       "KE    21.634146\n",
       "NL    28.635135\n",
       "US    22.449275\n",
       "Name: age, dtype: float64"
      ]
     },
     "execution_count": 20,
     "metadata": {},
     "output_type": "execute_result"
    }
   ],
   "source": [
    "dfmale.groupby(['location'])['age'].mean()"
   ]
  },
  {
   "cell_type": "markdown",
   "metadata": {},
   "source": [
    "What is the most popular weekday according to the sport tracker? Does it vary according to gender? Is the amount of records consistent across the two months?"
   ]
  },
  {
   "cell_type": "code",
   "execution_count": 21,
   "metadata": {},
   "outputs": [
    {
     "data": {
      "text/plain": [
       "Text(0.5, 1.05, 'Activity by weekday')"
      ]
     },
     "execution_count": 21,
     "metadata": {},
     "output_type": "execute_result"
    },
    {
     "data": {
      "image/png": "[encoded data removed]",
      "text/plain": [
       "<Figure size 765.625x360 with 2 Axes>"
      ]
     },
     "metadata": {
      "needs_background": "light"
     },
     "output_type": "display_data"
    }
   ],
   "source": [
    "activity_by_weekday = sns.catplot(data=df, x='weekday', col = 'activity' ,hue = 'gender', kind='count', ci=False);\n",
    "activity_by_weekday.fig.suptitle('Activity by weekday', y=1.05) "
   ]
  },
  {
   "cell_type": "code",
   "execution_count": 22,
   "metadata": {
    "scrolled": true
   },
   "outputs": [
    {
     "data": {
      "text/plain": [
       "Text(0.5, 1.05, 'Activity by month')"
      ]
     },
     "execution_count": 22,
     "metadata": {},
     "output_type": "execute_result"
    },
    {
     "data": {
      "image/png": "[encoded data removed]",
      "text/plain": [
       "<Figure size 720x360 with 2 Axes>"
      ]
     },
     "metadata": {
      "needs_background": "light"
     },
     "output_type": "display_data"
    }
   ],
   "source": [
    "# catplot of days per month\n",
    "activity_by_month = sns.catplot(data=df, x='day', col='month',kind='count', ci=False)\n",
    "activity_by_month.fig.suptitle('Activity by month', y=1.05) "
   ]
  },
  {
   "cell_type": "code",
   "execution_count": 23,
   "metadata": {},
   "outputs": [
    {
     "data": {
      "text/plain": [
       "266"
      ]
     },
     "execution_count": 23,
     "metadata": {},
     "output_type": "execute_result"
    }
   ],
   "source": [
    "len(df[df.month==2])"
   ]
  },
  {
   "cell_type": "markdown",
   "metadata": {},
   "source": [
    "Does the speed at which the activities are performed differ according to type? How does speed differ based on gender?\n",
    "\n",
    "As `speed` is been analysed, let's first check whether there is a mismatch between the US and other locations."
   ]
  },
  {
   "cell_type": "code",
   "execution_count": 24,
   "metadata": {},
   "outputs": [
    {
     "data": {
      "text/plain": [
       "activity  type   \n",
       "ride      race       29.428000\n",
       "          workout    27.229663\n",
       "run       race        9.145000\n",
       "          workout     8.441333\n",
       "Name: speed, dtype: float64"
      ]
     },
     "execution_count": 24,
     "metadata": {},
     "output_type": "execute_result"
    }
   ],
   "source": [
    "#checking if there is a difference between the US values, in case the distance value was calulated in miles.\n",
    "dfUS = df[df.location=='US'][['activity', 'type', 'duration','distance','speed']]\n",
    "dfnotUS = df[df.location!='US'][['activity', 'type', 'duration','duration', 'distance','speed','location']]\n",
    "\n",
    "dfUS.groupby(['activity','type'])['speed'].mean()"
   ]
  },
  {
   "cell_type": "code",
   "execution_count": 25,
   "metadata": {},
   "outputs": [
    {
     "data": {
      "text/plain": [
       "activity  type   \n",
       "ride      race       29.625294\n",
       "          workout    27.062663\n",
       "run       race       15.157500\n",
       "          workout    11.629977\n",
       "Name: speed, dtype: float64"
      ]
     },
     "execution_count": 25,
     "metadata": {},
     "output_type": "execute_result"
    }
   ],
   "source": [
    "dfnotUS.groupby(['activity','type'])['speed'].mean()"
   ]
  },
  {
   "cell_type": "code",
   "execution_count": 26,
   "metadata": {},
   "outputs": [
    {
     "data": {
      "text/plain": [
       "Text(0.5, 1.05, 'Speed for running')"
      ]
     },
     "execution_count": 26,
     "metadata": {},
     "output_type": "execute_result"
    },
    {
     "data": {
      "image/png": "[encoded data removed]",
      "text/plain": [
       "<Figure size 720x360 with 2 Axes>"
      ]
     },
     "metadata": {
      "needs_background": "light"
     },
     "output_type": "display_data"
    }
   ],
   "source": [
    "\"\"\"check where there is prevalence of faster runners to see if there is something odd with the data \n",
    "keeping in mind the absence of ride records for the location NL\"\"\"\n",
    "dfrun = df[df.activity=='run'][['location','speed', 'gender']]\n",
    "speed_run = sns.catplot(x='location', y='speed', data=dfrun, col = 'gender', kind='box');\n",
    "speed_run.fig.suptitle('Speed for running', y=1.05) "
   ]
  },
  {
   "cell_type": "code",
   "execution_count": 27,
   "metadata": {},
   "outputs": [
    {
     "data": {
      "text/plain": [
       "Text(0.5, 1.05, 'Speed for riding')"
      ]
     },
     "execution_count": 27,
     "metadata": {},
     "output_type": "execute_result"
    },
    {
     "data": {
      "image/png": "[encoded data removed]",
      "text/plain": [
       "<Figure size 720x360 with 2 Axes>"
      ]
     },
     "metadata": {
      "needs_background": "light"
     },
     "output_type": "display_data"
    }
   ],
   "source": [
    "#check again the value for the other activity \n",
    "dfride = df[df.activity!='run'][['location','speed','gender']]\n",
    "speed_ride = sns.catplot(x='location', y='speed', col = 'gender', data=dfride, kind='box');\n",
    "speed_ride.fig.suptitle('Speed for riding', y=1.05) "
   ]
  },
  {
   "cell_type": "code",
   "execution_count": 28,
   "metadata": {},
   "outputs": [
    {
     "data": {
      "image/png": "[encoded data removed]",
      "text/plain": [
       "<Figure size 405.625x360 with 1 Axes>"
      ]
     },
     "metadata": {
      "needs_background": "light"
     },
     "output_type": "display_data"
    }
   ],
   "source": [
    "#is the increase of speed in Kenya due to the fact that people using the app tend to be professional athletes?\n",
    "dfKE = df[df.location=='KE'][['gender','weekday']]\n",
    "sns.catplot(data=dfKE, x='weekday',hue = 'gender', kind='count', ci=False).set(title='Use per Weekdays in KE');"
   ]
  },
  {
   "cell_type": "code",
   "execution_count": 29,
   "metadata": {},
   "outputs": [
    {
     "data": {
      "text/plain": [
       "activity  type   \n",
       "ride      race       29.580455\n",
       "          workout    27.096290\n",
       "run       race       14.155417\n",
       "          workout    11.162891\n",
       "Name: speed, dtype: float64"
      ]
     },
     "execution_count": 29,
     "metadata": {},
     "output_type": "execute_result"
    }
   ],
   "source": [
    "#checking whether type influences speed\n",
    "df.groupby(['activity','type'])['speed'].mean()"
   ]
  },
  {
   "cell_type": "code",
   "execution_count": 30,
   "metadata": {},
   "outputs": [
    {
     "data": {
      "text/plain": [
       "activity  gender\n",
       "ride      f         26.026202\n",
       "          m         28.596739\n",
       "run       f         10.536327\n",
       "          m         12.434556\n",
       "Name: speed, dtype: float64"
      ]
     },
     "execution_count": 30,
     "metadata": {},
     "output_type": "execute_result"
    }
   ],
   "source": [
    "#checking whether gender influences speed, by first taking out race\n",
    "dfworkout = df[df.type != 'race'][['gender', 'activity','speed']]\n",
    "dfworkout.groupby(['activity','gender'])['speed'].mean()"
   ]
  },
  {
   "cell_type": "markdown",
   "metadata": {},
   "source": [
    "## Results\n",
    "\n",
    "While it is impossible to infer a general pattern of behaviour relative to sport tracking apps in general, it is possible to advance tentative guesses regarding the population recorded, bearing in mind that, especially due to non-consistency of the data available, it is impossible to infer conclusive interpretations. In particular, it is to be taken into consideration that the data is gathered through a sport tracker app across few locations and limited timeframe and limited users. \n",
    "\n",
    "The ___gender___ count is biased towards female users of the app across all countries recorded, with the exception of the Netherlands, which records a slightly higher count of usage for male users with an even number of unique users per gender (m = 8, f = 8). \n",
    "\n",
    "It is worth mentioning the the male population over thirty is underrepresented by the app, and this might in part influence the users' count being tilted towards female users. It might also partially influence the ___age___ results, which display a prevalence of users under thirty.\n",
    "\n",
    "Regarding the two ___activities___, running seems to be the preferred option for both male and female users. There is however a peculiar trend relative to locations, showing an absolute prefernce for running in Kenya and for riding in the Netherlands. \n",
    "\n",
    "Of the five ___locations___, one remains unspecified. There are 29 unique users, for a total of 308 records, with no location specification. It can be assumed they are not located in the US, as the dates recorded for these users does not match the US one. \n",
    "\n",
    "Users across location and gender appear to favor the use of the tracker during the weekend. This preference regarding ___weekdays___ is in line with the assumption that weekends are usually devolved to non-working activities. \n",
    "\n",
    "The usage count is drastically reduced for the ___month___ of February (the records' count is 734 in January, 266 in February). While it is possible to see the clear trend of people using the app more during the weekend in both months, there is no linear decrease from month 1 to month 2. The number of unique users for the month of February is 94 (out of the total 100), so the reduction in number is not due specifically to few people using the tracker, but to the tracker being used less, or better to fewer activities displayed in the records. The app displays records from different places, in different continents, therefore it is unlikely that the cause of this odd pattern is a contextual event taking place in February. The latter, together with the fact that the trend does not decrese linearly but discretely in the second month, seems to suggest the anomaly to be due to uneven data gathering across months (734 records for January vs 266 for February), rather than the presence of a motivated pattern. Therefore, the cause might be a mistake at the dataset building stage.\n",
    "\n",
    "The data seems to suggest that speed varies according to the ___type___ of usage (workout or race), which would not be surprising as for the latter the aim is to beat an opponent by being faster. On the other hand, the increased value for the second type might also be due to the lower number of records associated, therefore to lower variability in the sample available. \n",
    "\n",
    "The data shows an increase in ___speed___ for users located in Kenya, which seems not to be due to users being professionally versed in running, as the tracker shows the same pattern of increased usage during the weekend. On the other hand, it is also possible that this particular app might be preferred for non-professional use by athletes, therefore disproving my claim. \n",
    "\n",
    "Finally, male users appear to be faster than female ones across all locations examined. It is worth mentioning that, although the pattern seems to be consistent, the data accounts for fewer male unique users and records, so the sample might not be representative enough to determine a decisively trend."
   ]
  }
 ],
 "metadata": {
  "kernelspec": {
   "display_name": "Python 3",
   "language": "python",
   "name": "python3"
  },
  "language_info": {
   "codemirror_mode": {
    "name": "ipython",
    "version": 3
   },
   "file_extension": ".py",
   "mimetype": "text/x-python",
   "name": "python",
   "nbconvert_exporter": "python",
   "pygments_lexer": "ipython3",
   "version": "3.7.1"
  }
 },
 "nbformat": 4,
 "nbformat_minor": 2
}
